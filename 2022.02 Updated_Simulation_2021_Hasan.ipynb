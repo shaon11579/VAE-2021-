{
  "nbformat": 4,
  "nbformat_minor": 0,
  "metadata": {
    "colab": {
      "name": "simulation 2021 Hasan.ipynb",
      "provenance": [],
      "mount_file_id": "https://github.com/shaon11579/VAE-2021-/blob/main/10-07%3A%20simulation_2021_Hasan.ipynb",
      "authorship_tag": "ABX9TyNrelSh0sm3hQGU1CvWSCIO",
      "include_colab_link": true
    },
    "kernelspec": {
      "name": "python3",
      "display_name": "Python 3"
    },
    "language_info": {
      "name": "python"
    },
    "accelerator": "GPU"
  },
  "cells": [
    {
      "cell_type": "markdown",
      "metadata": {
        "id": "view-in-github",
        "colab_type": "text"
      },
      "source": [
        "<a href=\"https://colab.research.google.com/github/shaon11579/VAE-2021-/blob/main/2022.02%20Updated_Simulation_2021_Hasan.ipynb\" target=\"_parent\"><img src=\"https://colab.research.google.com/assets/colab-badge.svg\" alt=\"Open In Colab\"/></a>"
      ]
    },
    {
      "cell_type": "markdown",
      "metadata": {
        "id": "6KbI5hyM40NJ"
      },
      "source": [
        "- We include a data set in the ML2Pvae package for demonstrative use.\n",
        "- The data is from a simulated 30 item exam which assesses 3 latent traits. The latent abilities for 5000 students, found in the data frame theta_true, were sampled from N(0,Σ). Here, Σ specifies the correlations between the 3 abilities, and is found in the data frame correlation_matrix. \n",
        "- Discrimination and difficulty paramters were sampled uniformly from [0.25, 1.75] and [−3, 3] respectively, and entries in the Q-matrix were sampled from Bern(0.35). These values can be found in the data frames disc_true, diff_true, and q_matrix. Probabilities for each student answering each question correctly were calculated with the ML2P model [5]. These probabilities were sampled from to generate a response to each item on the assessment for each student. This is the main piece of data used for training, and is found in the data frame responses."
      ]
    },
    {
      "cell_type": "markdown",
      "metadata": {
        "id": "Kawgi3UvjB2C"
      },
      "source": [
        "3.1 Data\n",
        "\n",
        "We ran experiments on four data sets: (i) a simulated data set with 6 latent traits, 50 items, and 20,000 students; (ii) results from the Examination for the Certificate of Pro- ficiency in English (ECPE) (Templin and Hoffman, 2013), a real data set with 3 latent traits, 28 items, and 2922 students; (iii) a simulated data set with a 20 latent traits 200 items, and 50,000 students; and (iv) a simulated data set with 4 latent traits, 27 items, and 3,000 students. Note that comparisons with traditional techniques are only possible for (i), (ii), and (iv) because of the large number of latent traits in (iii). It is also worth pointing out that true parameter values, for both students and items, are only available for simulated data.\n",
        "When simulating data for (i) and (iii), we used Python’s SciPy package to generate a symmetric positive definite matrix with 1s on the diagonal (correlation matrix) and all matrix entries non-negative. All latent traits had correlation values between 0 and 1. We assumed that each latent trait was mean-centered at 0. Then, we sampled abil- ity vectors to create simulated students. We generated a random Q-matrix where each entry qij ∼ Bern(0.2). If a column qi∶ = 0 for each element after sampling from this Ber- noulli distribution, then one random element was changed to a 1. This ensures that each item measured at least one trait.\n",
        "Discrimination parameters were sampled from a range so that 0.25 ≤ MDISCi ≤ 1.75 for each item i, and difficulty parameters were sampled uniformly from [−3, 3]. Finally, response sets for each student were sampled from the ML2P model using these parameters. For data set (iv) we were more particular in selecting the Q-matrix and correlation matrix. Rather than generating these randomly, each entry in these matrices was chosen manually. Of the 4 skills in the correlation matrix, one of them is entirely independent of the other three. The other three latent abilities had correlations of 0.25, 0.1, and 0.15 between them. The correlation matrix was chosen in this way so that it is closer to the identity matrix, allowing the ML2P-VAEind variation to perform better. The Q-matrix was chosen so that it contained 16 “simple” items (items requiring only one skill), 6 13 items requiring 2 latent abilities, 4 items requiring 3 latent abilities, and one item requir- ing all 4 skills. In this way, each of the possible ( 4k ) combinations is present in the Q-matrix, for k ∈ {1, 2, 3, 4}.\n",
        "[ ]\n",
        "# a simulated data set with 6 latent traits, 50 items, and 20,000 students\n",
        "Q_mat,A,B,Theta,data= Create_data(num_students=20000, num_questions=50, num_tests=1, num_skills=6)\n",
        "[ ]\n",
        "#20 latent traits 200 items, and 50,000 students\n",
        "Q_mat,A,B,Theta,data= Create_data(num_students=80000, num_questions=250, num_tests=1, num_skills=20)\n",
        "np.shape(data)\n",
        "(80000, 252)\n",
        "[ ]\n"
      ]
    },
    {
      "cell_type": "code",
      "metadata": {
        "id": "-WndzHkON6cP"
      },
      "source": [
        "\n",
        "import numpy as np\n",
        "import pandas as pd\n",
        "from scipy import *\n",
        "from scipy.sparse import *\n",
        "\n",
        "###############################################################################\n",
        "#Create_data: simulates data for student assessment.\n",
        "#INPUTS:\n",
        "    #num_students: (int) # of students taking the assessment\n",
        "    #num_questions: (int) # of quesions in the assessment \n",
        "    #num_tests: (int) # of times the student has taken a test\n",
        "#OUTPUTS:\n",
        "    #Q_mat: the expert estimation of which skills pertain to which question\n",
        "    #A: how much a skill effects a question= diss params \n",
        "    #B: difficulty of each question = diff params \n",
        "    #Theta: the student's hidden knowledge of a subject\n",
        "    #data: the student responses for each question for each test\n",
        "###############################################################################\n",
        "def Create_data(num_students, num_questions, num_tests, num_skills):\n",
        "    J = num_skills #number of hidden skills\n",
        "    K = num_students #number of students\n",
        "    I = num_questions #number of questions in the assessment\n",
        "    \n",
        "    #Q matrix is expert prepared matrix of whether a item i requires skill j\n",
        "    Q_mat = np.random.binomial(n=1,p=0.2, size = [J,I]) #bern 0.2\n",
        "    \n",
        "    #Discrimination parameters: how important is skill j for item i \n",
        "    A = np.random.uniform(low=0.25, high = 1.75, size = [J,I])\n",
        "    \n",
        "    #Theta: hidden skills for each student\n",
        "    Theta = np.random.normal(loc = 0.0, scale=1.0, size = [K,J])\n",
        "    np.savetxt('Theta.csv',Theta, delimiter=',')\n",
        "    \n",
        "    #B: the difficulty of each question\n",
        "    B= np.random.uniform(low=-3.0, high = 3.0, size = [1, I])\n",
        "    \n",
        "    hidden = -1 * np.dot(Theta, (Q_mat * A)) + B# Equation 1 from the paper\n",
        "    \n",
        "    def sigmoid(x):\n",
        "        return pow((1 + np.exp(x)), -1)\n",
        "    \n",
        "    prob_answers = sigmoid(hidden)#the probability a question is answered correctly\n",
        "    \n",
        "    data_rows = [] #[student, test #, q1, q2,...,qnum_questions]\n",
        "    col_names = ['student','test_num']\n",
        "    for question in range(I):\n",
        "        col_names.append('Q{}'.format(question+1))\n",
        "    for student in range(prob_answers.shape[0]):\n",
        "        for test_num in range(num_tests):\n",
        "            row = [None]*(num_questions + 2)#[student, test #, q1,q2,...,qnum_questions]\n",
        "            row[0] = student\n",
        "            row[1] = test_num\n",
        "            for question in range(prob_answers.shape[1]):\n",
        "                row[question+2] = np.random.binomial(n=1,p=prob_answers[student, question], size = None)\n",
        "            data_rows.append(row)    \n",
        "            \n",
        "    data = pd.DataFrame(data = data_rows, columns = col_names)\n",
        "    \n",
        "    data = data.values.astype('float32')\n",
        "    #data.to_csv(\"/content/q/data1.csv\", index=False, header=False)\n",
        "\n",
        "    return (Q_mat, A, B, Theta, data)\n",
        "\n",
        "\n",
        "\n"
      ],
      "execution_count": null,
      "outputs": []
    },
    {
      "cell_type": "code",
      "metadata": {
        "id": "PznDbKNK-_cv"
      },
      "source": [
        "Q_mat,A,B,Theta,data= Create_data(num_students=60000, num_questions=250, num_tests=1, num_skills=25)\n",
        "\n",
        "  \n",
        "\n",
        "  \n",
        "  \n"
      ],
      "execution_count": null,
      "outputs": []
    },
    {
      "cell_type": "markdown",
      "metadata": {
        "id": "0QPJ6ehiQxBW"
      },
      "source": [
        "# 7 latent traits "
      ]
    },
    {
      "cell_type": "code",
      "metadata": {
        "id": "UrTtaF5SDm4n"
      },
      "source": [
        "Q_mat,A,B,Theta,data= Create_data(num_students=5000, num_questions=30, num_tests=1, num_skills=7)\n",
        "\n",
        "  \n"
      ],
      "execution_count": null,
      "outputs": []
    },
    {
      "cell_type": "code",
      "metadata": {
        "colab": {
          "base_uri": "https://localhost:8080/"
        },
        "id": "VtUkMLDrBIln",
        "outputId": "147fd7cc-0880-49b9-e4c4-6c7015c1c8f7"
      },
      "source": [
        "data\n",
        "np.shape(data)"
      ],
      "execution_count": null,
      "outputs": [
        {
          "output_type": "execute_result",
          "data": {
            "text/plain": [
              "(5000, 32)"
            ]
          },
          "metadata": {},
          "execution_count": 4
        }
      ]
    },
    {
      "cell_type": "code",
      "metadata": {
        "colab": {
          "base_uri": "https://localhost:8080/"
        },
        "id": "70duwcuNDuN2",
        "outputId": "459d000a-4370-4db3-fefa-a912f082174c"
      },
      "source": [
        "\n",
        "np.shape(A)"
      ],
      "execution_count": null,
      "outputs": [
        {
          "output_type": "execute_result",
          "data": {
            "text/plain": [
              "(7, 30)"
            ]
          },
          "metadata": {},
          "execution_count": 5
        }
      ]
    },
    {
      "cell_type": "markdown",
      "metadata": {
        "id": "STATw4EQQL_T"
      },
      "source": [
        "# 7 latent traits "
      ]
    },
    {
      "cell_type": "code",
      "metadata": {
        "id": "5mRHuuMABhkm"
      },
      "source": [
        "#create response data for 5000 students \n",
        "data=pd.DataFrame(data)\n",
        "data.head()\n",
        "data.to_csv('/content/drive/MyDrive/Q_mat/response.csv')"
      ],
      "execution_count": null,
      "outputs": []
    },
    {
      "cell_type": "code",
      "metadata": {
        "id": "hzg8kLCDBDsL"
      },
      "source": [
        "#qmatrix 30 items 7 latent traits \n",
        "Q_mat7=pd.DataFrame(Q_mat)\n",
        "\n",
        "Q_mat7.to_csv('/content/drive/MyDrive/Q_mat/Q_mat7.csv')"
      ],
      "execution_count": null,
      "outputs": []
    },
    {
      "cell_type": "code",
      "metadata": {
        "id": "vD3mKODeBEhF"
      },
      "source": [
        "#Discrimination parameters: how important is skill j for item i \n",
        "#dis_true: A\n",
        "dis_true7=pd.DataFrame(A)\n",
        "\n",
        "dis_true7.to_csv('/content/drive/MyDrive/Q_mat/dis_true.csv')"
      ],
      "execution_count": null,
      "outputs": []
    },
    {
      "cell_type": "code",
      "metadata": {
        "id": "ZTSgjL3hUWKD",
        "colab": {
          "base_uri": "https://localhost:8080/"
        },
        "outputId": "04a2cfa0-4895-444f-893b-13249bbcdf48"
      },
      "source": [
        "np.shape(dis_true7)"
      ],
      "execution_count": null,
      "outputs": [
        {
          "output_type": "execute_result",
          "data": {
            "text/plain": [
              "(7, 30)"
            ]
          },
          "metadata": {},
          "execution_count": 15
        }
      ]
    },
    {
      "cell_type": "code",
      "metadata": {
        "id": "b3j1XjW0UuIb",
        "colab": {
          "base_uri": "https://localhost:8080/"
        },
        "outputId": "791c02da-28fd-45a6-cd2e-885247aa556f"
      },
      "source": [
        "np.shape(A)"
      ],
      "execution_count": null,
      "outputs": [
        {
          "output_type": "execute_result",
          "data": {
            "text/plain": [
              "(7, 30)"
            ]
          },
          "metadata": {},
          "execution_count": 16
        }
      ]
    },
    {
      "cell_type": "code",
      "metadata": {
        "id": "njuK3DdXBFU5"
      },
      "source": [
        "#diff_true\n",
        "\n",
        "diff_true7=pd.DataFrame(B)\n",
        "\n",
        "diff_true7.to_csv('/content/drive/MyDrive/Q_mat/diff_true7.csv')"
      ],
      "execution_count": null,
      "outputs": []
    },
    {
      "cell_type": "code",
      "metadata": {
        "id": "m2y0DwqJBF90"
      },
      "source": [
        "#theta true \n",
        "theta_true7=pd.DataFrame(Theta)\n",
        "\n",
        "theta_true7.to_csv('/content/drive/MyDrive/Q_mat/theta_true7.csv')"
      ],
      "execution_count": null,
      "outputs": []
    },
    {
      "cell_type": "code",
      "metadata": {
        "id": "DZdznpZLYEvs",
        "colab": {
          "base_uri": "https://localhost:8080/"
        },
        "outputId": "39ce89ab-d9fb-425c-f3e7-63e23b2e7c38"
      },
      "source": [
        "np.shape(theta_true7)"
      ],
      "execution_count": null,
      "outputs": [
        {
          "output_type": "execute_result",
          "data": {
            "text/plain": [
              "(5000, 7)"
            ]
          },
          "metadata": {},
          "execution_count": 9
        }
      ]
    },
    {
      "cell_type": "markdown",
      "metadata": {
        "id": "iIir6flMKkr8"
      },
      "source": [
        "# 14 latent traits "
      ]
    },
    {
      "cell_type": "code",
      "metadata": {
        "id": "_cOcjKuGKptd"
      },
      "source": [
        "Q_mat,A,B,Theta,data= Create_data(num_students=5000, num_questions=30, num_tests=1, num_skills=14)"
      ],
      "execution_count": null,
      "outputs": []
    },
    {
      "cell_type": "code",
      "metadata": {
        "id": "o9OxRgyGKkTO",
        "colab": {
          "base_uri": "https://localhost:8080/"
        },
        "outputId": "c0ec0972-deb5-4148-d532-78324462a9e0"
      },
      "source": [
        "#data shape check \n",
        "\n",
        "np.shape(data)\n",
        "\n",
        "\n"
      ],
      "execution_count": null,
      "outputs": [
        {
          "output_type": "execute_result",
          "data": {
            "text/plain": [
              "(5000, 32)"
            ]
          },
          "metadata": {},
          "execution_count": 12
        }
      ]
    },
    {
      "cell_type": "code",
      "metadata": {
        "id": "ynH1CICSNjP6"
      },
      "source": [
        "#create response data for 5000 students \n",
        "response14=pd.DataFrame(data)\n",
        "\n",
        "response14.to_csv('/content/drive/MyDrive/Q_mat/response14.csv')"
      ],
      "execution_count": null,
      "outputs": []
    },
    {
      "cell_type": "code",
      "metadata": {
        "id": "nKBt62sJLT1l",
        "colab": {
          "base_uri": "https://localhost:8080/"
        },
        "outputId": "7b5719b6-9b5c-473d-c2d6-2d54883d0ac9"
      },
      "source": [
        "np.shape(A)\n"
      ],
      "execution_count": null,
      "outputs": [
        {
          "output_type": "execute_result",
          "data": {
            "text/plain": [
              "(14, 30)"
            ]
          },
          "metadata": {},
          "execution_count": 13
        }
      ]
    },
    {
      "cell_type": "code",
      "metadata": {
        "id": "1i6wOJo4N0Ul"
      },
      "source": [
        "#Discrimination parameters: how important is skill j for item i \n",
        "#dis_true: A for 14 lt \n",
        "dis_true14=pd.DataFrame(A)\n",
        "dis_true14.to_csv('/content/drive/MyDrive/Q_mat/dis_true14.csv')"
      ],
      "execution_count": null,
      "outputs": []
    },
    {
      "cell_type": "code",
      "metadata": {
        "id": "17OGwu8uLVtI",
        "colab": {
          "base_uri": "https://localhost:8080/"
        },
        "outputId": "99b7b37c-02eb-4362-d831-ebe7c155dd3d"
      },
      "source": [
        "np.shape(B)\n"
      ],
      "execution_count": null,
      "outputs": [
        {
          "output_type": "execute_result",
          "data": {
            "text/plain": [
              "(1, 30)"
            ]
          },
          "metadata": {},
          "execution_count": 27
        }
      ]
    },
    {
      "cell_type": "code",
      "metadata": {
        "id": "dzH7k6kaOAdy"
      },
      "source": [
        "#diff_true for 14 lt \n",
        "\n",
        "diff_true14=pd.DataFrame(B)\n",
        "\n",
        "diff_true14.to_csv('/content/drive/MyDrive/Q_mat/diff_true14.csv')"
      ],
      "execution_count": null,
      "outputs": []
    },
    {
      "cell_type": "code",
      "metadata": {
        "id": "lOr4YPYWLX8y",
        "colab": {
          "base_uri": "https://localhost:8080/"
        },
        "outputId": "021ef3bf-919a-44e4-c102-761531a95cf7"
      },
      "source": [
        "np.shape(Q_mat)\n"
      ],
      "execution_count": null,
      "outputs": [
        {
          "output_type": "execute_result",
          "data": {
            "text/plain": [
              "(14, 30)"
            ]
          },
          "metadata": {},
          "execution_count": 28
        }
      ]
    },
    {
      "cell_type": "code",
      "metadata": {
        "id": "d-VzOKCPN6To"
      },
      "source": [
        "#qmatrix 30 items 14 latent traits \n",
        "Q_mat14=pd.DataFrame(Q_mat)\n",
        "Q_mat14.to_csv('/content/drive/MyDrive/Q_mat/Q_mat14.csv')"
      ],
      "execution_count": null,
      "outputs": []
    },
    {
      "cell_type": "code",
      "metadata": {
        "id": "Ks9rGPCyLaD7",
        "colab": {
          "base_uri": "https://localhost:8080/"
        },
        "outputId": "fe6ea9f7-7a81-4810-82ee-ac7d988fa9d2"
      },
      "source": [
        "np.shape(Theta)"
      ],
      "execution_count": null,
      "outputs": [
        {
          "output_type": "execute_result",
          "data": {
            "text/plain": [
              "(5000, 14)"
            ]
          },
          "metadata": {},
          "execution_count": 29
        }
      ]
    },
    {
      "cell_type": "code",
      "metadata": {
        "id": "95WBMjIrOE4A"
      },
      "source": [
        "#theta true for 14 lt \n",
        "theta_true14=pd.DataFrame(Theta)\n",
        "\n",
        "theta_true14.to_csv('/content/drive/MyDrive/Q_mat/theta_true14.csv')"
      ],
      "execution_count": null,
      "outputs": []
    },
    {
      "cell_type": "code",
      "metadata": {
        "id": "L5iKFZGrMsa5"
      },
      "source": [
        "# save results 14 items \n",
        "\n",
        "data.to_csv('/content/q/diff_true.csv')\n",
        "data.to_csv('/content/q/diff_true.csv')\n",
        "data.to_csv('/content/q/diff_true.csv')\n",
        "data.to_csv('/content/q/diff_true.csv')\n",
        "data.to_csv('/content/q/diff_true.csv')\n",
        "\n",
        "/content/q/14\n"
      ],
      "execution_count": null,
      "outputs": []
    },
    {
      "cell_type": "code",
      "metadata": {
        "id": "dQcVi7vT7SdV"
      },
      "source": [
        "#create a csv file\n",
        "data.to_csv(\"/content/q/data.csv\", index=False, header=False)"
      ],
      "execution_count": null,
      "outputs": []
    },
    {
      "cell_type": "code",
      "metadata": {
        "id": "kFZTWi7X6Mn6"
      },
      "source": [
        "import csv"
      ],
      "execution_count": null,
      "outputs": []
    },
    {
      "cell_type": "code",
      "metadata": {
        "id": "t-iGSUlI9Ai7"
      },
      "source": [
        "#3 latent traits "
      ],
      "execution_count": null,
      "outputs": []
    },
    {
      "cell_type": "code",
      "metadata": {
        "id": "4o0POM_684FG"
      },
      "source": [
        "# 7 latent trait "
      ],
      "execution_count": null,
      "outputs": []
    },
    {
      "cell_type": "code",
      "metadata": {
        "id": "jW4cPyZ-8679"
      },
      "source": [
        "# 14 latent trait "
      ],
      "execution_count": null,
      "outputs": []
    },
    {
      "cell_type": "code",
      "metadata": {
        "id": "tsmCrbfp8_IB"
      },
      "source": [
        ""
      ],
      "execution_count": null,
      "outputs": []
    },
    {
      "cell_type": "markdown",
      "metadata": {
        "id": "9dwoxjs54yve"
      },
      "source": [
        "3.1 Data\n",
        "- We ran experiments on four data sets: (i) a simulated data set with 6 latent traits, 50 items, and 20,000 students; (ii) results from the Examination for the Certificate of Pro- ficiency in English (ECPE) (Templin and Hoffman, 2013), a real data set with 3 latent traits, 28 items, and 2922 students; (iii) a simulated data set with a 20 latent traits 200 items, and 50,000 students; and (iv) a simulated data set with 4 latent traits, 27 items, and 3,000 students. Note that comparisons with traditional techniques are only possible for (i), (ii), and (iv) because of the large number of latent traits in (iii). It is also worth pointing out that true parameter values, for both students and items, are only available for simulated data.\n",
        "- When simulating data for (i) and (iii), we used Python’s SciPy package to generate a symmetric positive definite matrix with 1s on the diagonal (correlation matrix) and all matrix entries non-negative. All latent traits had correlation values between 0 and 1. We assumed that each latent trait was mean-centered at 0. Then, we sampled abil- ity vectors to create simulated students. We generated a random Q-matrix where each entry qij ∼ Bern(0.2). If a column qi∶ = 0 for each element after sampling from this Ber- noulli distribution, then one random element was changed to a 1. This ensures that each item measured at least one trait. \n",
        "- Discrimination parameters were sampled from a range so that 0.25 ≤ MDISCi ≤ 1.75 for each item i, and difficulty parameters were sampled uniformly from [−3, 3]. Finally, response sets for each student were sampled from the ML2P model using these parameters.\n",
        "For data set (iv) we were more particular in selecting the Q-matrix and correlation matrix. Rather than generating these randomly, each entry in these matrices was chosen manually. Of the 4 skills in the correlation matrix, one of them is entirely independent of the other three. The other three latent abilities had correlations of 0.25, 0.1, and 0.15 between them. The correlation matrix was chosen in this way so that it is closer to the identity matrix, allowing the ML2P-VAEind variation to perform better. The Q-matrix was chosen so that it contained 16 “simple” items (items requiring only one skill), 6\n",
        "13 items requiring 2 latent abilities, 4 items requiring 3 latent abilities, and one item requir- ing all 4 skills. In this way, each of the possible ( 4k ) combinations is present in the Q-matrix, for k ∈ {1, 2, 3, 4}.\n"
      ]
    },
    {
      "cell_type": "code",
      "metadata": {
        "id": "q2jBp4J6OQdm"
      },
      "source": [
        "# a simulated data set with 6 latent traits, 50 items, and 20,000 students\n",
        "Q_mat,A,B,Theta,data= Create_data(num_students=20000, num_questions=50, num_tests=1, num_skills=6)"
      ],
      "execution_count": null,
      "outputs": []
    },
    {
      "cell_type": "code",
      "metadata": {
        "id": "A9XeZcALJC9o",
        "colab": {
          "base_uri": "https://localhost:8080/"
        },
        "outputId": "1640c4df-1129-4520-dd23-a97050174e6a"
      },
      "source": [
        "#20 latent traits 200 items, and 50,000 students\n",
        "Q_mat,A,B,Theta,data= Create_data(num_students=80000, num_questions=250, num_tests=1, num_skills=20)\n",
        "np.shape(data)"
      ],
      "execution_count": null,
      "outputs": [
        {
          "output_type": "execute_result",
          "data": {
            "text/plain": [
              "(80000, 252)"
            ]
          },
          "metadata": {},
          "execution_count": 7
        }
      ]
    },
    {
      "cell_type": "code",
      "metadata": {
        "id": "ZOIjCGxDKHPr"
      },
      "source": [
        ""
      ],
      "execution_count": null,
      "outputs": []
    }
  ]
}