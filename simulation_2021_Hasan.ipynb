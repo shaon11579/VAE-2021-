{
  "nbformat": 4,
  "nbformat_minor": 0,
  "metadata": {
    "colab": {
      "name": "simulation 2021 Hasan.ipynb",
      "provenance": [],
      "authorship_tag": "ABX9TyNMwkHerP5hIzjE6sQyCQFP",
      "include_colab_link": true
    },
    "kernelspec": {
      "name": "python3",
      "display_name": "Python 3"
    },
    "language_info": {
      "name": "python"
    }
  },
  "cells": [
    {
      "cell_type": "markdown",
      "metadata": {
        "id": "view-in-github",
        "colab_type": "text"
      },
      "source": [
        "<a href=\"https://colab.research.google.com/github/shaon11579/VAE-2021-/blob/main/simulation_2021_Hasan.ipynb\" target=\"_parent\"><img src=\"https://colab.research.google.com/assets/colab-badge.svg\" alt=\"Open In Colab\"/></a>"
      ]
    },
    {
      "cell_type": "markdown",
      "metadata": {
        "id": "6KbI5hyM40NJ"
      },
      "source": [
        "- We include a data set in the ML2Pvae package for demonstrative use.\n",
        "- The data is from a simulated 30 item exam which assesses 3 latent traits. The latent abilities for 5000 students, found in the data frame theta_true, were sampled from N(0,Σ). Here, Σ specifies the correlations between the 3 abilities, and is found in the data frame correlation_matrix. \n",
        "- Discrimination and difficulty paramters were sampled uniformly from [0.25, 1.75] and [−3, 3] respectively, and entries in the Q-matrix were sampled from Bern(0.35). These values can be found in the data frames disc_true, diff_true, and q_matrix. Probabilities for each student answering each question correctly were calculated with the ML2P model [5]. These probabilities were sampled from to generate a response to each item on the assessment for each student. This is the main piece of data used for training, and is found in the data frame responses."
      ]
    },
    {
      "cell_type": "code",
      "metadata": {
        "id": "-WndzHkON6cP"
      },
      "source": [
        "\n",
        "import numpy as np\n",
        "import pandas as pd\n",
        "\n",
        "###############################################################################\n",
        "#Create_data: simulates data for student assessment.\n",
        "#INPUTS:\n",
        "    #num_students: (int) # of students taking the assessment\n",
        "    #num_questions: (int) # of quesions in the assessment \n",
        "    #num_tests: (int) # of times the student has taken a test\n",
        "#OUTPUTS:\n",
        "    #Q_mat: the expert estimation of which skills pertain to which question\n",
        "    #A: how much a skill effects a question\n",
        "    #B: difficulty of each question\n",
        "    #Theta: the student's hidden knowledge of a subject\n",
        "    #data: the student responses for each question for each test\n",
        "###############################################################################\n",
        "def Create_data(num_students, num_questions, num_tests, num_skills):\n",
        "    J = num_skills #number of hidden skills\n",
        "    K = num_students #number of students\n",
        "    I = num_questions #number of questions in the assessment\n",
        "    \n",
        "    #Q matrix is expert prepared matrix of whether a item i requires skill j\n",
        "    Q_mat = np.random.binomial(n=1,p=.35, size = [J,I]) #bernoli0.35\n",
        "    \n",
        "    #Discrimination parameters: how important is skill j for item i \n",
        "    A = np.random.uniform(low=0.25, high = 1.75, size = [J,I])\n",
        "    \n",
        "    #Theta: hidden skills for each student\n",
        "    Theta = np.random.normal(loc = 0.0, scale=1.0, size = [K,J])\n",
        "    np.savetxt('Theta.csv',Theta, delimiter=',')\n",
        "    \n",
        "    #B: the difficulty of each question\n",
        "    B= np.random.uniform(low=-3.0, high = 3.0, size = [1, I])\n",
        "    \n",
        "    hidden = -1 * np.dot(Theta, (Q_mat * A)) + B# Equation 1 from the paper\n",
        "    \n",
        "    def sigmoid(x):\n",
        "        return pow((1 + np.exp(x)), -1)\n",
        "    \n",
        "    prob_answers = sigmoid(hidden)#the probability a question is answered correctly\n",
        "    \n",
        "    data_rows = [] #[student, test #, q1, q2,...,qnum_questions]\n",
        "    col_names = ['student','test_num']\n",
        "    for question in range(I):\n",
        "        col_names.append('Q{}'.format(question+1))\n",
        "    for student in range(prob_answers.shape[0]):\n",
        "        for test_num in range(num_tests):\n",
        "            row = [None]*(num_questions + 2)#[student, test #, q1,q2,...,qnum_questions]\n",
        "            row[0] = student\n",
        "            row[1] = test_num\n",
        "            for question in range(prob_answers.shape[1]):\n",
        "                row[question+2] = np.random.binomial(n=1,p=prob_answers[student, question], size = None)\n",
        "            data_rows.append(row)    \n",
        "            \n",
        "    data = pd.DataFrame(data = data_rows, columns = col_names)\n",
        "    \n",
        "    data = data.values.astype('float32')\n",
        "    #data.to_csv(\"/content/q/data1.csv\", index=False, header=False)\n",
        "\n",
        "    return (Q_mat, A, B, Theta, data)\n",
        "\n",
        "\n",
        "\n"
      ],
      "execution_count": 31,
      "outputs": []
    },
    {
      "cell_type": "code",
      "metadata": {
        "id": "PznDbKNK-_cv"
      },
      "source": [
        "Q_mat,A,B,Theta,data= Create_data(num_students=5000, num_questions=30, num_tests=1, num_skills=7)\n",
        "\n",
        "  \n",
        "\n",
        "  \n",
        "  \n"
      ],
      "execution_count": 23,
      "outputs": []
    },
    {
      "cell_type": "code",
      "metadata": {
        "id": "UrTtaF5SDm4n"
      },
      "source": [
        "Q_mat,A,B,Theta,data= Create_data(num_students=5000, num_questions=30, num_tests=1, num_skills=7)\n",
        "\n",
        "  \n"
      ],
      "execution_count": null,
      "outputs": []
    },
    {
      "cell_type": "code",
      "metadata": {
        "colab": {
          "base_uri": "https://localhost:8080/"
        },
        "id": "VtUkMLDrBIln",
        "outputId": "e62f4641-07e8-4724-990f-9fe07a151a19"
      },
      "source": [
        "Q_mat\n",
        "np.shape(Q_mat)"
      ],
      "execution_count": 27,
      "outputs": [
        {
          "output_type": "execute_result",
          "data": {
            "text/plain": [
              "(7, 30)"
            ]
          },
          "metadata": {},
          "execution_count": 27
        }
      ]
    },
    {
      "cell_type": "code",
      "metadata": {
        "colab": {
          "base_uri": "https://localhost:8080/"
        },
        "id": "70duwcuNDuN2",
        "outputId": "7c3e1170-a012-44ea-dd40-12b003e71306"
      },
      "source": [
        "\n",
        "np.shape(A)"
      ],
      "execution_count": 34,
      "outputs": [
        {
          "output_type": "execute_result",
          "data": {
            "text/plain": [
              "(7, 30)"
            ]
          },
          "metadata": {},
          "execution_count": 34
        }
      ]
    },
    {
      "cell_type": "code",
      "metadata": {
        "id": "5mRHuuMABhkm"
      },
      "source": [
        "data=pd.DataFrame(Q_mat)\n",
        "data.head()\n",
        "data.to_csv('/content/q/data.csv')"
      ],
      "execution_count": 30,
      "outputs": []
    },
    {
      "cell_type": "code",
      "metadata": {
        "id": "dQcVi7vT7SdV"
      },
      "source": [
        "#create a csv file\n",
        "data.to_csv(\"/content/q/data.csv\", index=False, header=False)"
      ],
      "execution_count": 12,
      "outputs": []
    },
    {
      "cell_type": "code",
      "metadata": {
        "id": "kFZTWi7X6Mn6"
      },
      "source": [
        "import csv"
      ],
      "execution_count": 7,
      "outputs": []
    },
    {
      "cell_type": "code",
      "metadata": {
        "id": "t-iGSUlI9Ai7"
      },
      "source": [
        "#3 latent traits "
      ],
      "execution_count": null,
      "outputs": []
    },
    {
      "cell_type": "code",
      "metadata": {
        "id": "4o0POM_684FG"
      },
      "source": [
        "# 7 latent trait "
      ],
      "execution_count": null,
      "outputs": []
    },
    {
      "cell_type": "code",
      "metadata": {
        "id": "jW4cPyZ-8679"
      },
      "source": [
        "# 14 latent trait "
      ],
      "execution_count": null,
      "outputs": []
    },
    {
      "cell_type": "code",
      "metadata": {
        "id": "tsmCrbfp8_IB"
      },
      "source": [
        ""
      ],
      "execution_count": null,
      "outputs": []
    },
    {
      "cell_type": "code",
      "metadata": {
        "colab": {
          "base_uri": "https://localhost:8080/",
          "height": 201
        },
        "id": "7zfFnCpS5MaP",
        "outputId": "b977c3e6-845a-42a1-92be-d8cdbe77f8cb"
      },
      "source": [
        "\n",
        "\n",
        "# open the file in the write mode\n",
        "#f = open('/content/q')\n",
        "\n",
        "# create the csv writer\n",
        "writer = csv.writer(\"/content/q/data.csv\")"
      ],
      "execution_count": 13,
      "outputs": [
        {
          "output_type": "error",
          "ename": "TypeError",
          "evalue": "ignored",
          "traceback": [
            "\u001b[0;31m---------------------------------------------------------------------------\u001b[0m",
            "\u001b[0;31mTypeError\u001b[0m                                 Traceback (most recent call last)",
            "\u001b[0;32m<ipython-input-13-94cf57253935>\u001b[0m in \u001b[0;36m<module>\u001b[0;34m()\u001b[0m\n\u001b[1;32m      5\u001b[0m \u001b[0;34m\u001b[0m\u001b[0m\n\u001b[1;32m      6\u001b[0m \u001b[0;31m# create the csv writer\u001b[0m\u001b[0;34m\u001b[0m\u001b[0;34m\u001b[0m\u001b[0;34m\u001b[0m\u001b[0m\n\u001b[0;32m----> 7\u001b[0;31m \u001b[0mwriter\u001b[0m \u001b[0;34m=\u001b[0m \u001b[0mcsv\u001b[0m\u001b[0;34m.\u001b[0m\u001b[0mwriter\u001b[0m\u001b[0;34m(\u001b[0m\u001b[0;34m\"/content/q/data.csv\"\u001b[0m\u001b[0;34m)\u001b[0m\u001b[0;34m\u001b[0m\u001b[0;34m\u001b[0m\u001b[0m\n\u001b[0m",
            "\u001b[0;31mTypeError\u001b[0m: argument 1 must have a \"write\" method"
          ]
        }
      ]
    },
    {
      "cell_type": "code",
      "metadata": {
        "colab": {
          "base_uri": "https://localhost:8080/"
        },
        "id": "L0JlFtKI6tD_",
        "outputId": "578149fb-7219-43b3-bfd1-fa39b6346ef7"
      },
      "source": [
        "import pandas as pd\n",
        "import numpy as np\n",
        "#get the flipcount\n",
        "flipcount = int(input(\"How many times should I flip a coin?\\n###:\"))\n",
        "samples = np.random.randint(0, 2, size = flipcount)\n",
        "#create a pandas dataframe\n",
        "data = pd.DataFrame([\"heads\" if i == 1 else \"Tails\" for i in samples])\n",
        "#create a csv file\n",
        "data.to_csv(\"/content/q/data.csv\", index=False, header=False)"
      ],
      "execution_count": 10,
      "outputs": [
        {
          "name": "stdout",
          "output_type": "stream",
          "text": [
            "How many times should I flip a coin?\n",
            "###:10\n"
          ]
        }
      ]
    },
    {
      "cell_type": "markdown",
      "metadata": {
        "id": "9dwoxjs54yve"
      },
      "source": [
        ""
      ]
    },
    {
      "cell_type": "code",
      "metadata": {
        "colab": {
          "base_uri": "https://localhost:8080/",
          "height": 166
        },
        "id": "q2jBp4J6OQdm",
        "outputId": "75911fad-39a5-46b8-ea29-9e579547490a"
      },
      "source": [
        ""
      ],
      "execution_count": 8,
      "outputs": [
        {
          "output_type": "error",
          "ename": "NameError",
          "evalue": "ignored",
          "traceback": [
            "\u001b[0;31m---------------------------------------------------------------------------\u001b[0m",
            "\u001b[0;31mNameError\u001b[0m                                 Traceback (most recent call last)",
            "\u001b[0;32m<ipython-input-8-81be06eb3c4c>\u001b[0m in \u001b[0;36m<module>\u001b[0;34m()\u001b[0m\n\u001b[0;32m----> 1\u001b[0;31m \u001b[0mQ_mat\u001b[0m\u001b[0;34m\u001b[0m\u001b[0;34m\u001b[0m\u001b[0m\n\u001b[0m",
            "\u001b[0;31mNameError\u001b[0m: name 'Q_mat' is not defined"
          ]
        }
      ]
    }
  ]
}