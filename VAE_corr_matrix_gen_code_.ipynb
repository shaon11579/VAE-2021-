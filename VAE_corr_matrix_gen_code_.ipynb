{
  "nbformat": 4,
  "nbformat_minor": 0,
  "metadata": {
    "colab": {
      "name": "VAE corr matrix gen code .ipynb",
      "provenance": [],
      "mount_file_id": "1NdC67VxPzbMq5I6dZVT3tetB-Zj_bfW7",
      "authorship_tag": "ABX9TyNca7cI+mKmmnVmUQy5WWWZ",
      "include_colab_link": true
    },
    "kernelspec": {
      "name": "python3",
      "display_name": "Python 3"
    },
    "language_info": {
      "name": "python"
    },
    "accelerator": "GPU"
  },
  "cells": [
    {
      "cell_type": "markdown",
      "metadata": {
        "id": "view-in-github",
        "colab_type": "text"
      },
      "source": [
        "<a href=\"https://colab.research.google.com/github/shaon11579/VAE-2021-/blob/main/VAE_corr_matrix_gen_code_.ipynb\" target=\"_parent\"><img src=\"https://colab.research.google.com/assets/colab-badge.svg\" alt=\"Open In Colab\"/></a>"
      ]
    },
    {
      "cell_type": "code",
      "metadata": {
        "id": "6d3ZOSEjuVzu"
      },
      "source": [
        "import numpy as np\n",
        "from scipy.stats import random_correlation\n",
        "from scipy.linalg import eigh"
      ],
      "execution_count": 1,
      "outputs": []
    },
    {
      "cell_type": "code",
      "metadata": {
        "colab": {
          "base_uri": "https://localhost:8080/"
        },
        "id": "4ikKSy0vubgL",
        "outputId": "d789547f-91fb-46bd-fab8-07564699f24c"
      },
      "source": [
        "##print(random_correlation.rvs([1.5,.5]))\n",
        "dim = 8\n",
        "##my_eigs = [1, .5, 1.5, 2, .3, .7, .1, .9, 5, .25, .25,\n",
        "##           .25, .25, 1, 1, 1.2, .9, .9, .45, 1.55]\n",
        "#my_eigs = [1.8, .3, .9]\n",
        "my_eigs = [1, 1, 0.8, 0.9, 1.2, 1.1, 1.05, 0.95]\n",
        "corr = random_correlation.rvs(my_eigs)\n",
        "print(corr)\n",
        "e1, v1 = eigh(corr)\n",
        "print(e1)"
      ],
      "execution_count": 2,
      "outputs": [
        {
          "output_type": "stream",
          "name": "stdout",
          "text": [
            "[[ 1.         -0.01385995 -0.02261094 -0.06214653  0.01116029  0.01683477\n",
            "   0.01707037 -0.03588392]\n",
            " [-0.01385995  1.         -0.02919391  0.01481117 -0.00906924 -0.04208801\n",
            "  -0.01782837 -0.00413132]\n",
            " [-0.02261094 -0.02919391  1.          0.05533811 -0.00476264  0.00452804\n",
            "  -0.03428299  0.04607672]\n",
            " [-0.06214653  0.01481117  0.05533811  1.         -0.04788041 -0.02160471\n",
            "  -0.01376406 -0.03755327]\n",
            " [ 0.01116029 -0.00906924 -0.00476264 -0.04788041  1.          0.08589664\n",
            "   0.01347964  0.00350788]\n",
            " [ 0.01683477 -0.04208801  0.00452804 -0.02160471  0.08589664  1.\n",
            "   0.03179836 -0.15070745]\n",
            " [ 0.01707037 -0.01782837 -0.03428299 -0.01376406  0.01347964  0.03179836\n",
            "   1.          0.02506452]\n",
            " [-0.03588392 -0.00413132  0.04607672 -0.03755327  0.00350788 -0.15070745\n",
            "   0.02506452  1.        ]]\n",
            "[0.8  0.9  0.95 1.   1.   1.05 1.1  1.2 ]\n"
          ]
        }
      ]
    },
    {
      "cell_type": "code",
      "metadata": {
        "colab": {
          "base_uri": "https://localhost:8080/"
        },
        "id": "gZkSo4mFuj8o",
        "outputId": "be2daf1c-824c-4992-91a5-8639aa8f2c2d"
      },
      "source": [
        "pos_corr = np.zeros([dim,dim])\n",
        "for row in range(0, dim):\n",
        "    for col in range(0, dim):\n",
        "        pos_corr[row,col] = np.round(abs(corr[row,col]), 3)\n",
        "        #pos_corr[row,col] = abs(corr[row,col])\n",
        "print(pos_corr)\n",
        "e2, v2 = eigh(pos_corr)\n",
        "print(e2)"
      ],
      "execution_count": 3,
      "outputs": [
        {
          "output_type": "stream",
          "name": "stdout",
          "text": [
            "[[1.    0.014 0.023 0.062 0.011 0.017 0.017 0.036]\n",
            " [0.014 1.    0.029 0.015 0.009 0.042 0.018 0.004]\n",
            " [0.023 0.029 1.    0.055 0.005 0.005 0.034 0.046]\n",
            " [0.062 0.015 0.055 1.    0.048 0.022 0.014 0.038]\n",
            " [0.011 0.009 0.005 0.048 1.    0.086 0.013 0.004]\n",
            " [0.017 0.042 0.005 0.022 0.086 1.    0.032 0.151]\n",
            " [0.017 0.018 0.034 0.014 0.013 0.032 1.    0.025]\n",
            " [0.036 0.004 0.046 0.038 0.004 0.151 0.025 1.   ]]\n",
            "[0.81717595 0.91356079 0.96906965 0.98163608 1.00331859 1.01430765\n",
            " 1.05677421 1.24415708]\n"
          ]
        }
      ]
    },
    {
      "cell_type": "code",
      "metadata": {
        "colab": {
          "base_uri": "https://localhost:8080/"
        },
        "id": "QwvWP-utuq6o",
        "outputId": "51f2f8e2-1c15-4396-e314-2536a4705747"
      },
      "source": [
        "#np.save('cor3.npy', pos_corr)\n",
        "\n",
        "# build by hand:\n",
        "my_matrix = np.array([\n",
        "    [ 1,.1, 0, 0,.3, 0, 0, 0],\n",
        "    [.1, 1, 0,.2, 0, 0, 0, 0],\n",
        "    [ 0, 0, 1, 0, 0, 0, 0, 0],\n",
        "    [ 0,.2, 0, 1, 0, 0, 0, 0],\n",
        "    [.3, 0, 0, 0, 1, 0, 0,.2],\n",
        "    [ 0, 0, 0, 0, 0, 1,.4, 0],\n",
        "    [ 0, 0, 0, 0, 0,.4, 1, 0],\n",
        "    [ 0, 0, 0, 0,.2, 0, 0, 1]\n",
        "    ])\n",
        "e3, v3 = eigh(my_matrix)\n",
        "print(my_matrix)\n",
        "print(my_matrix == np.transpose(my_matrix))\n",
        "print(e3)\n",
        "print(np.linalg.det(my_matrix))\n",
        "np.save('chosen_cor8.npy', my_matrix)"
      ],
      "execution_count": 5,
      "outputs": [
        {
          "output_type": "stream",
          "name": "stdout",
          "text": [
            "[[1.  0.1 0.  0.  0.3 0.  0.  0. ]\n",
            " [0.1 1.  0.  0.2 0.  0.  0.  0. ]\n",
            " [0.  0.  1.  0.  0.  0.  0.  0. ]\n",
            " [0.  0.2 0.  1.  0.  0.  0.  0. ]\n",
            " [0.3 0.  0.  0.  1.  0.  0.  0.2]\n",
            " [0.  0.  0.  0.  0.  1.  0.4 0. ]\n",
            " [0.  0.  0.  0.  0.  0.4 1.  0. ]\n",
            " [0.  0.  0.  0.  0.2 0.  0.  1. ]]\n",
            "[[ True  True  True  True  True  True  True  True]\n",
            " [ True  True  True  True  True  True  True  True]\n",
            " [ True  True  True  True  True  True  True  True]\n",
            " [ True  True  True  True  True  True  True  True]\n",
            " [ True  True  True  True  True  True  True  True]\n",
            " [ True  True  True  True  True  True  True  True]\n",
            " [ True  True  True  True  True  True  True  True]\n",
            " [ True  True  True  True  True  True  True  True]]\n",
            "[0.6        0.62583426 0.8        1.         1.         1.2\n",
            " 1.37416574 1.4       ]\n",
            "0.6935039999999999\n"
          ]
        }
      ]
    },
    {
      "cell_type": "markdown",
      "metadata": {
        "id": "PkMUC09mu_EP"
      },
      "source": [
        "# next data with 300 sample corr matrix "
      ]
    },
    {
      "cell_type": "code",
      "metadata": {
        "id": "-QdrjDM6u-yI"
      },
      "source": [
        "import numpy as np\n",
        "\n",
        "num_data = 3000\n",
        "num_skills = 4\n",
        "num_items = 27 \n",
        "discr_range = [0.25, 1.4]\n",
        "diff_range = [-2,2]\n",
        "#q_prob = 0.35\n",
        "sim_theta = np.zeros([num_data, num_skills])"
      ],
      "execution_count": 6,
      "outputs": []
    },
    {
      "cell_type": "code",
      "metadata": {
        "colab": {
          "base_uri": "https://localhost:8080/"
        },
        "id": "mubMJM1IvHKL",
        "outputId": "8f02982f-61e9-43bb-828f-db27a081b0a5"
      },
      "source": [
        "\n",
        "# generate ability parameters\n",
        "#C = np.genfromtxt('cor_mat_dtmr.csv', delimiter=',', dtype='float32') \n",
        "#print(C)\n",
        "#C[0,0] = 1\n",
        "#np.save('cor_mat_dtmr.npy', C)\n",
        "#corr_mat = np.load('C:\\\\Users\\\\gconverse\\\\Desktop\\\\irt_vae_work_fall_19\\\\data_generation\\\\cor_mat_dtmr.npy')\n",
        "#corr_mat = np.array([[1.0, 0.3, 0.0, 0.0],\n",
        "#                     [0.3, 1.0, 0.1, 0.0],\n",
        "#                     [0.0, 0.1, 1.0, 0.2],\n",
        "#                     [0.0, 0.0, 0.2, 1.0]])\n",
        "corr_mat = np.array([[1.0, .25, 0.0, .15],\n",
        "                     [.25, 1.0, 0.0, 0.1],\n",
        "                     [0.0, 0.0, 1.0, 0.0],\n",
        "                     [.15, 0.1, 0.0, 1.0]])\n",
        "\n",
        "print(corr_mat)"
      ],
      "execution_count": 7,
      "outputs": [
        {
          "output_type": "stream",
          "name": "stdout",
          "text": [
            "[[1.   0.25 0.   0.15]\n",
            " [0.25 1.   0.   0.1 ]\n",
            " [0.   0.   1.   0.  ]\n",
            " [0.15 0.1  0.   1.  ]]\n"
          ]
        }
      ]
    },
    {
      "cell_type": "code",
      "metadata": {
        "id": "PV78502DvLN2"
      },
      "source": [
        "#np.save('../data/dtmr_sim3/chosen_cor4.npy', corr_mat)\n",
        "cholesky = np.linalg.cholesky(corr_mat)\n",
        "for i in range(num_data):\n",
        "    epsilon = np.random.normal(size=num_skills)\n",
        "    sim_theta[i,:] = np.matmul(cholesky, epsilon)"
      ],
      "execution_count": 8,
      "outputs": []
    },
    {
      "cell_type": "code",
      "metadata": {
        "colab": {
          "base_uri": "https://localhost:8080/",
          "height": 436
        },
        "id": "z9zXr70JvRKC",
        "outputId": "63985c93-0f84-4688-8a35-8cee68f8cd80"
      },
      "source": [
        "np.savetxt('/content/drive/MyDrive/15-scene/models/theta_sim_dtmr4.csv', sim_theta, delimiter=',')\n",
        "print(np.mean(sim_theta[:,0]))\n",
        "print(np.mean(sim_theta[:,1]))\n",
        "print(np.mean(sim_theta[:,2]))\n",
        "print(np.mean(sim_theta[:,3]))\n"
      ],
      "execution_count": 9,
      "outputs": [
        {
          "output_type": "error",
          "ename": "FileNotFoundError",
          "evalue": "ignored",
          "traceback": [
            "\u001b[0;31m---------------------------------------------------------------------------\u001b[0m",
            "\u001b[0;31mFileNotFoundError\u001b[0m                         Traceback (most recent call last)",
            "\u001b[0;32m<ipython-input-9-784a78d72d40>\u001b[0m in \u001b[0;36m<module>\u001b[0;34m()\u001b[0m\n\u001b[0;32m----> 1\u001b[0;31m \u001b[0mnp\u001b[0m\u001b[0;34m.\u001b[0m\u001b[0msavetxt\u001b[0m\u001b[0;34m(\u001b[0m\u001b[0;34m'/content/drive/MyDrive/15-scene/models/theta_sim_dtmr4.csv'\u001b[0m\u001b[0;34m,\u001b[0m \u001b[0msim_theta\u001b[0m\u001b[0;34m,\u001b[0m \u001b[0mdelimiter\u001b[0m\u001b[0;34m=\u001b[0m\u001b[0;34m','\u001b[0m\u001b[0;34m)\u001b[0m\u001b[0;34m\u001b[0m\u001b[0;34m\u001b[0m\u001b[0m\n\u001b[0m\u001b[1;32m      2\u001b[0m \u001b[0mprint\u001b[0m\u001b[0;34m(\u001b[0m\u001b[0mnp\u001b[0m\u001b[0;34m.\u001b[0m\u001b[0mmean\u001b[0m\u001b[0;34m(\u001b[0m\u001b[0msim_theta\u001b[0m\u001b[0;34m[\u001b[0m\u001b[0;34m:\u001b[0m\u001b[0;34m,\u001b[0m\u001b[0;36m0\u001b[0m\u001b[0;34m]\u001b[0m\u001b[0;34m)\u001b[0m\u001b[0;34m)\u001b[0m\u001b[0;34m\u001b[0m\u001b[0;34m\u001b[0m\u001b[0m\n\u001b[1;32m      3\u001b[0m \u001b[0mprint\u001b[0m\u001b[0;34m(\u001b[0m\u001b[0mnp\u001b[0m\u001b[0;34m.\u001b[0m\u001b[0mmean\u001b[0m\u001b[0;34m(\u001b[0m\u001b[0msim_theta\u001b[0m\u001b[0;34m[\u001b[0m\u001b[0;34m:\u001b[0m\u001b[0;34m,\u001b[0m\u001b[0;36m1\u001b[0m\u001b[0;34m]\u001b[0m\u001b[0;34m)\u001b[0m\u001b[0;34m)\u001b[0m\u001b[0;34m\u001b[0m\u001b[0;34m\u001b[0m\u001b[0m\n\u001b[1;32m      4\u001b[0m \u001b[0mprint\u001b[0m\u001b[0;34m(\u001b[0m\u001b[0mnp\u001b[0m\u001b[0;34m.\u001b[0m\u001b[0mmean\u001b[0m\u001b[0;34m(\u001b[0m\u001b[0msim_theta\u001b[0m\u001b[0;34m[\u001b[0m\u001b[0;34m:\u001b[0m\u001b[0;34m,\u001b[0m\u001b[0;36m2\u001b[0m\u001b[0;34m]\u001b[0m\u001b[0;34m)\u001b[0m\u001b[0;34m)\u001b[0m\u001b[0;34m\u001b[0m\u001b[0;34m\u001b[0m\u001b[0m\n\u001b[1;32m      5\u001b[0m \u001b[0mprint\u001b[0m\u001b[0;34m(\u001b[0m\u001b[0mnp\u001b[0m\u001b[0;34m.\u001b[0m\u001b[0mmean\u001b[0m\u001b[0;34m(\u001b[0m\u001b[0msim_theta\u001b[0m\u001b[0;34m[\u001b[0m\u001b[0;34m:\u001b[0m\u001b[0;34m,\u001b[0m\u001b[0;36m3\u001b[0m\u001b[0;34m]\u001b[0m\u001b[0;34m)\u001b[0m\u001b[0;34m)\u001b[0m\u001b[0;34m\u001b[0m\u001b[0;34m\u001b[0m\u001b[0m\n",
            "\u001b[0;32m<__array_function__ internals>\u001b[0m in \u001b[0;36msavetxt\u001b[0;34m(*args, **kwargs)\u001b[0m\n",
            "\u001b[0;32m/usr/local/lib/python3.7/dist-packages/numpy/lib/npyio.py\u001b[0m in \u001b[0;36msavetxt\u001b[0;34m(fname, X, fmt, delimiter, newline, header, footer, comments, encoding)\u001b[0m\n\u001b[1;32m   1355\u001b[0m     \u001b[0;32mif\u001b[0m \u001b[0m_is_string_like\u001b[0m\u001b[0;34m(\u001b[0m\u001b[0mfname\u001b[0m\u001b[0;34m)\u001b[0m\u001b[0;34m:\u001b[0m\u001b[0;34m\u001b[0m\u001b[0;34m\u001b[0m\u001b[0m\n\u001b[1;32m   1356\u001b[0m         \u001b[0;31m# datasource doesn't support creating a new file ...\u001b[0m\u001b[0;34m\u001b[0m\u001b[0;34m\u001b[0m\u001b[0;34m\u001b[0m\u001b[0m\n\u001b[0;32m-> 1357\u001b[0;31m         \u001b[0mopen\u001b[0m\u001b[0;34m(\u001b[0m\u001b[0mfname\u001b[0m\u001b[0;34m,\u001b[0m \u001b[0;34m'wt'\u001b[0m\u001b[0;34m)\u001b[0m\u001b[0;34m.\u001b[0m\u001b[0mclose\u001b[0m\u001b[0;34m(\u001b[0m\u001b[0;34m)\u001b[0m\u001b[0;34m\u001b[0m\u001b[0;34m\u001b[0m\u001b[0m\n\u001b[0m\u001b[1;32m   1358\u001b[0m         \u001b[0mfh\u001b[0m \u001b[0;34m=\u001b[0m \u001b[0mnp\u001b[0m\u001b[0;34m.\u001b[0m\u001b[0mlib\u001b[0m\u001b[0;34m.\u001b[0m\u001b[0m_datasource\u001b[0m\u001b[0;34m.\u001b[0m\u001b[0mopen\u001b[0m\u001b[0;34m(\u001b[0m\u001b[0mfname\u001b[0m\u001b[0;34m,\u001b[0m \u001b[0;34m'wt'\u001b[0m\u001b[0;34m,\u001b[0m \u001b[0mencoding\u001b[0m\u001b[0;34m=\u001b[0m\u001b[0mencoding\u001b[0m\u001b[0;34m)\u001b[0m\u001b[0;34m\u001b[0m\u001b[0;34m\u001b[0m\u001b[0m\n\u001b[1;32m   1359\u001b[0m         \u001b[0mown_fh\u001b[0m \u001b[0;34m=\u001b[0m \u001b[0;32mTrue\u001b[0m\u001b[0;34m\u001b[0m\u001b[0;34m\u001b[0m\u001b[0m\n",
            "\u001b[0;31mFileNotFoundError\u001b[0m: [Errno 2] No such file or directory: '/content/drive/MyDrive/15-scene/models/theta_sim_dtmr4.csv'"
          ]
        }
      ]
    },
    {
      "cell_type": "code",
      "metadata": {
        "colab": {
          "base_uri": "https://localhost:8080/",
          "height": 392
        },
        "id": "Q0dstlYTvkx0",
        "outputId": "7d566a74-a87d-4f31-b4ff-97810bc5d819"
      },
      "source": [
        "# generate Q-matrix\n",
        "#Q = np.random.binomial(1, q_prob, size=[num_skills, num_items])\n",
        "# # make sure each item tests at least one skill\n",
        "#for col in range(num_items):\n",
        "#    if sum(Q[:,col])== 0:\n",
        "#        rand_ind = np.random.randint(num_skills)\n",
        "#        Q[rand_ind, col] = 1\n",
        "\n",
        "# Load Q-matrix from fraction4 (in CDM package)\n",
        "#Q = np.transpose(np.genfromtxt('../fraction4_q_matrix.csv', delimiter=','))\n",
        "#print(\"Q from CDM package\")\n",
        "#print(Q)\n",
        "\n",
        "# Load custom made Q-matrix with simple items \n",
        "Q = np.genfromtxt('../q_custom_4_27.csv', delimiter=',', dtype = 'float32')\n",
        "Q[0,0] = 1 # this is nan for some reason\n",
        "print(\"Custom Q:\")\n",
        "print(Q)\n"
      ],
      "execution_count": 10,
      "outputs": [
        {
          "output_type": "error",
          "ename": "OSError",
          "evalue": "ignored",
          "traceback": [
            "\u001b[0;31m---------------------------------------------------------------------------\u001b[0m",
            "\u001b[0;31mOSError\u001b[0m                                   Traceback (most recent call last)",
            "\u001b[0;32m<ipython-input-10-1a48845c82cb>\u001b[0m in \u001b[0;36m<module>\u001b[0;34m()\u001b[0m\n\u001b[1;32m     13\u001b[0m \u001b[0;34m\u001b[0m\u001b[0m\n\u001b[1;32m     14\u001b[0m \u001b[0;31m# Load custom made Q-matrix with simple items\u001b[0m\u001b[0;34m\u001b[0m\u001b[0;34m\u001b[0m\u001b[0;34m\u001b[0m\u001b[0m\n\u001b[0;32m---> 15\u001b[0;31m \u001b[0mQ\u001b[0m \u001b[0;34m=\u001b[0m \u001b[0mnp\u001b[0m\u001b[0;34m.\u001b[0m\u001b[0mgenfromtxt\u001b[0m\u001b[0;34m(\u001b[0m\u001b[0;34m'../q_custom_4_27.csv'\u001b[0m\u001b[0;34m,\u001b[0m \u001b[0mdelimiter\u001b[0m\u001b[0;34m=\u001b[0m\u001b[0;34m','\u001b[0m\u001b[0;34m,\u001b[0m \u001b[0mdtype\u001b[0m \u001b[0;34m=\u001b[0m \u001b[0;34m'float32'\u001b[0m\u001b[0;34m)\u001b[0m\u001b[0;34m\u001b[0m\u001b[0;34m\u001b[0m\u001b[0m\n\u001b[0m\u001b[1;32m     16\u001b[0m \u001b[0mQ\u001b[0m\u001b[0;34m[\u001b[0m\u001b[0;36m0\u001b[0m\u001b[0;34m,\u001b[0m\u001b[0;36m0\u001b[0m\u001b[0;34m]\u001b[0m \u001b[0;34m=\u001b[0m \u001b[0;36m1\u001b[0m \u001b[0;31m# this is nan for some reason\u001b[0m\u001b[0;34m\u001b[0m\u001b[0;34m\u001b[0m\u001b[0m\n\u001b[1;32m     17\u001b[0m \u001b[0mprint\u001b[0m\u001b[0;34m(\u001b[0m\u001b[0;34m\"Custom Q:\"\u001b[0m\u001b[0;34m)\u001b[0m\u001b[0;34m\u001b[0m\u001b[0;34m\u001b[0m\u001b[0m\n",
            "\u001b[0;32m/usr/local/lib/python3.7/dist-packages/numpy/lib/npyio.py\u001b[0m in \u001b[0;36mgenfromtxt\u001b[0;34m(fname, dtype, comments, delimiter, skip_header, skip_footer, converters, missing_values, filling_values, usecols, names, excludelist, deletechars, replace_space, autostrip, case_sensitive, defaultfmt, unpack, usemask, loose, invalid_raise, max_rows, encoding)\u001b[0m\n\u001b[1;32m   1747\u001b[0m             \u001b[0mfname\u001b[0m \u001b[0;34m=\u001b[0m \u001b[0mos_fspath\u001b[0m\u001b[0;34m(\u001b[0m\u001b[0mfname\u001b[0m\u001b[0;34m)\u001b[0m\u001b[0;34m\u001b[0m\u001b[0;34m\u001b[0m\u001b[0m\n\u001b[1;32m   1748\u001b[0m         \u001b[0;32mif\u001b[0m \u001b[0misinstance\u001b[0m\u001b[0;34m(\u001b[0m\u001b[0mfname\u001b[0m\u001b[0;34m,\u001b[0m \u001b[0mstr\u001b[0m\u001b[0;34m)\u001b[0m\u001b[0;34m:\u001b[0m\u001b[0;34m\u001b[0m\u001b[0;34m\u001b[0m\u001b[0m\n\u001b[0;32m-> 1749\u001b[0;31m             \u001b[0mfid\u001b[0m \u001b[0;34m=\u001b[0m \u001b[0mnp\u001b[0m\u001b[0;34m.\u001b[0m\u001b[0mlib\u001b[0m\u001b[0;34m.\u001b[0m\u001b[0m_datasource\u001b[0m\u001b[0;34m.\u001b[0m\u001b[0mopen\u001b[0m\u001b[0;34m(\u001b[0m\u001b[0mfname\u001b[0m\u001b[0;34m,\u001b[0m \u001b[0;34m'rt'\u001b[0m\u001b[0;34m,\u001b[0m \u001b[0mencoding\u001b[0m\u001b[0;34m=\u001b[0m\u001b[0mencoding\u001b[0m\u001b[0;34m)\u001b[0m\u001b[0;34m\u001b[0m\u001b[0;34m\u001b[0m\u001b[0m\n\u001b[0m\u001b[1;32m   1750\u001b[0m             \u001b[0mfid_ctx\u001b[0m \u001b[0;34m=\u001b[0m \u001b[0mcontextlib\u001b[0m\u001b[0;34m.\u001b[0m\u001b[0mclosing\u001b[0m\u001b[0;34m(\u001b[0m\u001b[0mfid\u001b[0m\u001b[0;34m)\u001b[0m\u001b[0;34m\u001b[0m\u001b[0;34m\u001b[0m\u001b[0m\n\u001b[1;32m   1751\u001b[0m         \u001b[0;32melse\u001b[0m\u001b[0;34m:\u001b[0m\u001b[0;34m\u001b[0m\u001b[0;34m\u001b[0m\u001b[0m\n",
            "\u001b[0;32m/usr/local/lib/python3.7/dist-packages/numpy/lib/_datasource.py\u001b[0m in \u001b[0;36mopen\u001b[0;34m(path, mode, destpath, encoding, newline)\u001b[0m\n\u001b[1;32m    193\u001b[0m \u001b[0;34m\u001b[0m\u001b[0m\n\u001b[1;32m    194\u001b[0m     \u001b[0mds\u001b[0m \u001b[0;34m=\u001b[0m \u001b[0mDataSource\u001b[0m\u001b[0;34m(\u001b[0m\u001b[0mdestpath\u001b[0m\u001b[0;34m)\u001b[0m\u001b[0;34m\u001b[0m\u001b[0;34m\u001b[0m\u001b[0m\n\u001b[0;32m--> 195\u001b[0;31m     \u001b[0;32mreturn\u001b[0m \u001b[0mds\u001b[0m\u001b[0;34m.\u001b[0m\u001b[0mopen\u001b[0m\u001b[0;34m(\u001b[0m\u001b[0mpath\u001b[0m\u001b[0;34m,\u001b[0m \u001b[0mmode\u001b[0m\u001b[0;34m,\u001b[0m \u001b[0mencoding\u001b[0m\u001b[0;34m=\u001b[0m\u001b[0mencoding\u001b[0m\u001b[0;34m,\u001b[0m \u001b[0mnewline\u001b[0m\u001b[0;34m=\u001b[0m\u001b[0mnewline\u001b[0m\u001b[0;34m)\u001b[0m\u001b[0;34m\u001b[0m\u001b[0;34m\u001b[0m\u001b[0m\n\u001b[0m\u001b[1;32m    196\u001b[0m \u001b[0;34m\u001b[0m\u001b[0m\n\u001b[1;32m    197\u001b[0m \u001b[0;34m\u001b[0m\u001b[0m\n",
            "\u001b[0;32m/usr/local/lib/python3.7/dist-packages/numpy/lib/_datasource.py\u001b[0m in \u001b[0;36mopen\u001b[0;34m(self, path, mode, encoding, newline)\u001b[0m\n\u001b[1;32m    533\u001b[0m                                       encoding=encoding, newline=newline)\n\u001b[1;32m    534\u001b[0m         \u001b[0;32melse\u001b[0m\u001b[0;34m:\u001b[0m\u001b[0;34m\u001b[0m\u001b[0;34m\u001b[0m\u001b[0m\n\u001b[0;32m--> 535\u001b[0;31m             \u001b[0;32mraise\u001b[0m \u001b[0mIOError\u001b[0m\u001b[0;34m(\u001b[0m\u001b[0;34m\"%s not found.\"\u001b[0m \u001b[0;34m%\u001b[0m \u001b[0mpath\u001b[0m\u001b[0;34m)\u001b[0m\u001b[0;34m\u001b[0m\u001b[0;34m\u001b[0m\u001b[0m\n\u001b[0m\u001b[1;32m    536\u001b[0m \u001b[0;34m\u001b[0m\u001b[0m\n\u001b[1;32m    537\u001b[0m \u001b[0;34m\u001b[0m\u001b[0m\n",
            "\u001b[0;31mOSError\u001b[0m: ../q_custom_4_27.csv not found."
          ]
        }
      ]
    },
    {
      "cell_type": "code",
      "metadata": {
        "id": "PhXJSPIjvpSl"
      },
      "source": [
        "# # generate discrimination/difficulty parameters\n",
        "# # need to consider good MDISC_i and MDIFF_i\n",
        "sim_discr = np.random.uniform(discr_range[0], discr_range[1], size = [num_skills, num_items])\n",
        "sim_discr = sim_discr * Q # elementwise mult to make a_ij = 0 iff q_ij = 0\n",
        "sim_diff = np.random.uniform(diff_range[0], diff_range[1], size = num_items)\n",
        "\n",
        "print(sim_discr)\n",
        "print(\"***\")\n",
        "print(sim_diff)\n",
        "print(sim_theta[0:5,:])"
      ],
      "execution_count": null,
      "outputs": []
    },
    {
      "cell_type": "code",
      "metadata": {
        "id": "CpELTiwVvsJN"
      },
      "source": [
        "#np.savetxt('C:\\\\Users\\\\gconverse\\\\Desktop\\\\irt_vae_work_fall_19\\\\data\\\\chosen_q3\\\\fraction4_Q.csv', Q, delimiter=',')\n",
        "np.savetxt('C:\\\\Users\\\\gconverse\\\\Desktop\\\\irt_vae_work_fall_19\\\\data\\\\dtmr_sim4\\\\disc_sim_dtmr4.csv', sim_discr, delimiter=',')\n",
        "np.savetxt('C:\\\\Users\\\\gconverse\\\\Desktop\\\\irt_vae_work_fall_19\\\\data\\\\dtmr_sim4\\\\diff_sim_dtmr4.csv', sim_diff, delimiter=',')\n",
        "for i in range(num_items):\n",
        "    sum = 0\n",
        "    for k in range(num_skills):\n",
        "        sum += sim_discr[k,i] ** 2\n",
        "    print(np.math.sqrt(sum))"
      ],
      "execution_count": null,
      "outputs": []
    },
    {
      "cell_type": "markdown",
      "metadata": {
        "id": "LTdw7LLOvztd"
      },
      "source": [
        "# 50000, 20 lt and 20 items "
      ]
    },
    {
      "cell_type": "code",
      "metadata": {
        "id": "thVNq2nxv4_d"
      },
      "source": [
        "\n",
        "import numpy as np\n",
        "\n",
        "num_data = 50000\n",
        "num_skills = 20\n",
        "num_items = 200\n",
        "data_dir = '.\\\\..\\\\data\\\\dtmr_sim200\\\\'\n",
        "\n",
        "theta = np.loadtxt(data_dir+'sim_theta_'+str(num_skills)+\n",
        "                   'skills_size'+str(num_data)+'.csv', delimiter=',')\n",
        "discr = np.loadtxt(data_dir+'sim_discr_'+str(num_skills)+\n",
        "                    'skills_'+str(num_items)+'items.csv', delimiter=',')\n",
        "diff = np.loadtxt(data_dir+'sim_diff_'+str(num_items)+\n",
        "                   'items.csv', delimiter=',')\n",
        "\n",
        "probs = np.zeros([num_data, num_items])\n",
        "responses = np.zeros([num_data, num_items])\n",
        "for i in range(num_items):\n",
        "    for j in range(num_data):\n",
        "        my_sum = np.dot(discr[:,i], theta[j,:])\n",
        "        this_prob = 1/(1 + np.exp(-my_sum - diff[i]))\n",
        "        probs[j,i] = this_prob\n",
        "        responses[j,i] = np.random.binomial(1, this_prob)\n",
        "print(np.mean(theta))\n",
        "print(np.mean(probs))\n",
        "print(np.mean(responses))\n",
        "print(probs[0:5,:])\n",
        "print(responses[0:5,:])\n",
        "np.savetxt(data_dir+'sim_probs_dtmr4.csv', probs, delimiter=',')\n",
        "np.savetxt(data_dir+'sim_responses_dtmr4.csv', responses, delimiter=',')"
      ],
      "execution_count": null,
      "outputs": []
    }
  ]
}